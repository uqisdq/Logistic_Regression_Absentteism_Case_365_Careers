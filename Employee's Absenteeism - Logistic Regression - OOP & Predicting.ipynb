{
 "cells": [
  {
   "cell_type": "markdown",
   "metadata": {},
   "source": [
    "# Logistic Regression untuk memprediksi Absen Pekerja\n",
    "\n",
    "***Membuat modul OOP (Untuk mempersingkat kode) untuk preprocessing dan prediksi berdasarkan model yang dibuat pada tahap pembuatan model***\n",
    "\n",
    "Pada Kode ini, kita akan memprediksi apakah seorang pekerja akan absen atau tidak berdasarkan parameter2\n",
    "yang digunakan :\n",
    "\n",
    "('Date', 'Transportation Expense', 'Distance to Work', 'Age','Daily Work Load Average', 'Body Mass Index', 'Education', 'Children', 'Pets', 'Absenteeism Time in Hours', 'Type of Reasons')\n",
    "\n",
    "Jika nilai prediksi bernilai 1, maka pekerja tersebut kemungkinan akan melakukan excessive absenteism, \n",
    "Jika nilai prediksi bernilai 0, maka pekerja tersebut kemungkinan akan sangat jarang untuk Absen kerja."
   ]
  },
  {
   "cell_type": "code",
   "execution_count": 14,
   "metadata": {},
   "outputs": [],
   "source": [
    "import numpy as np\n",
    "import pandas as pd\n",
    "import pickle\n",
    "from sklearn.preprocessing import StandardScaler\n",
    "from sklearn.base import BaseEstimator, TransformerMixin\n",
    "\n",
    "\n",
    "class CustomScaler(BaseEstimator,TransformerMixin): \n",
    "    \n",
    "    def __init__(self,columns,copy=True,with_mean=True,with_std=True):\n",
    "        self.scaler = StandardScaler(copy,with_mean,with_std)\n",
    "        self.columns = columns\n",
    "        self.mean_ = None\n",
    "        self.var_ = None\n",
    "\n",
    "    def fit(self, X, y=None):\n",
    "        self.scaler.fit(X[self.columns], y)\n",
    "        self.mean_ = np.array(np.mean(X[self.columns]))\n",
    "        self.var_ = np.array(np.var(X[self.columns]))\n",
    "        return self\n",
    "\n",
    "    def transform(self, X, y=None, copy=None):\n",
    "        init_col_order = X.columns\n",
    "        X_scaled = pd.DataFrame(self.scaler.transform(X[self.columns]), columns=self.columns)\n",
    "        X_not_scaled = X.loc[:,~X.columns.isin(self.columns)]\n",
    "        return pd.concat([X_not_scaled, X_scaled], axis=1)[init_col_order]\n",
    "\n",
    "\n",
    "\n",
    "class absenteeism_model():\n",
    "      \n",
    "        def __init__(self, model_file, scaler_file):\n",
    "            # read the 'model' and 'scaler' files which were saved\n",
    "            with open('model','rb') as model_file, open('scaler', 'rb') as scaler_file:\n",
    "                self.reg = pickle.load(model_file)\n",
    "                self.scaler = pickle.load(scaler_file)\n",
    "                self.data = None\n",
    "        \n",
    "        # take a data file (*.csv) and preprocess it in the same way as in the lectures\n",
    "        def load_and_clean_data(self, data_file):\n",
    "            \n",
    "            # import the data\n",
    "            df = pd.read_csv(data_file,delimiter=',')\n",
    "            # store the data in a new variable for later use\n",
    "            self.df_with_predictions = df.copy()\n",
    "            # drop the 'ID' column\n",
    "            df = df.drop(['ID'], axis = 1)\n",
    "            # to preserve the code we've created in the previous section, we will add a column with 'NaN' strings\n",
    "            df['Absenteeism Time in Hours'] = 'NaN'\n",
    "\n",
    "            # create a separate dataframe, containing dummy values for ALL avaiable reasons\n",
    "            reason_columns = pd.get_dummies(df['Reason for Absence'], drop_first = True)\n",
    "            \n",
    "            # split reason_columns into 4 types\n",
    "            reason_type_1 = reason_columns.loc[:,1:14].max(axis=1)\n",
    "            reason_type_2 = reason_columns.loc[:,15:17].max(axis=1)\n",
    "            reason_type_3 = reason_columns.loc[:,18:21].max(axis=1)\n",
    "            reason_type_4 = reason_columns.loc[:,22:].max(axis=1)\n",
    "            \n",
    "            # to avoid multicollinearity, drop the 'Reason for Absence' column from df\n",
    "            df = df.drop(['Reason for Absence'], axis = 1)\n",
    "            \n",
    "            # concatenate df and the 4 types of reason for absence\n",
    "            df = pd.concat([df, reason_type_1, reason_type_2, reason_type_3, reason_type_4], axis = 1)\n",
    "            \n",
    "            # assign names to the 4 reason type columns\n",
    "            # note: there is a more universal version of this code, however the following will best suit our current purposes             \n",
    "            column_names = ['Date', 'Transportation Expense', 'Distance to Work', 'Age',\n",
    "                           'Daily Work Load Average', 'Body Mass Index', 'Education', 'Children',\n",
    "                           'Pets', 'Absenteeism Time in Hours', 'Reason_1', 'Reason_2', 'Reason_3', 'Reason_4']\n",
    "            df.columns = column_names\n",
    "\n",
    "            # re-order the columns in df\n",
    "            column_names_reordered = ['Reason_1', 'Reason_2', 'Reason_3', 'Reason_4', 'Date', 'Transportation Expense', \n",
    "                                      'Distance to Work', 'Age', 'Daily Work Load Average', 'Body Mass Index', 'Education', \n",
    "                                      'Children', 'Pets', 'Absenteeism Time in Hours']\n",
    "            df = df[column_names_reordered]\n",
    "      \n",
    "            # convert the 'Date' column into datetime\n",
    "            df['Date'] = pd.to_datetime(df['Date'], format='%d/%m/%Y')\n",
    "\n",
    "            # create a list with month values retrieved from the 'Date' column\n",
    "            list_months = []\n",
    "            for i in range(df.shape[0]):\n",
    "                list_months.append(df['Date'][i].month)\n",
    "\n",
    "            # insert the values in a new column in df, called 'Month Value'\n",
    "            df['Month Value'] = list_months\n",
    "\n",
    "            # create a new feature called 'Day of the Week'\n",
    "            df['Day of the Week'] = df['Date'].apply(lambda x: x.weekday())\n",
    "\n",
    "\n",
    "            # drop the 'Date' column from df\n",
    "            df = df.drop(['Date'], axis = 1)\n",
    "\n",
    "            # re-order the columns in df\n",
    "            column_names_upd = ['Reason_1', 'Reason_2', 'Reason_3', 'Reason_4', 'Month Value', 'Day of the Week',\n",
    "                                'Transportation Expense', 'Distance to Work', 'Age',\n",
    "                                'Daily Work Load Average', 'Body Mass Index', 'Education', 'Children',\n",
    "                                'Pets', 'Absenteeism Time in Hours']\n",
    "            df = df[column_names_upd]\n",
    "\n",
    "\n",
    "            # map 'Education' variables; the result is a dummy\n",
    "            df['Education'] = df['Education'].map({1:0, 2:1, 3:1, 4:1})\n",
    "\n",
    "            # replace the NaN values\n",
    "            df = df.fillna(value=0)\n",
    "\n",
    "            # drop the original absenteeism time\n",
    "            df = df.drop(['Absenteeism Time in Hours'],axis=1)\n",
    "            \n",
    "            # drop the variables we decide we don't need\n",
    "            df = df.drop(['Day of the Week','Daily Work Load Average','Distance to Work'],axis=1)\n",
    "            \n",
    "            # we have included this line of code if you want to call the 'preprocessed data'\n",
    "            self.preprocessed_data = df.copy()\n",
    "            \n",
    "            # we need this line so we can use it in the next functions\n",
    "            self.data = self.scaler.transform(df)\n",
    "    \n",
    "        # a function which outputs the probability of a data point to be 1\n",
    "        def predicted_probability(self):\n",
    "            if (self.data is not None):  \n",
    "                pred = self.reg.predict_proba(self.data)[:,1]\n",
    "                return pred\n",
    "        \n",
    "        # a function which outputs 0 or 1 based on our model\n",
    "        def predicted_output_category(self):\n",
    "            if (self.data is not None):\n",
    "                pred_outputs = self.reg.predict(self.data)\n",
    "                return pred_outputs\n",
    "        \n",
    "        # predict the outputs and the probabilities and \n",
    "        # add columns with these values at the end of the new data\n",
    "        def predicted_outputs(self):\n",
    "            if (self.data is not None):\n",
    "                self.preprocessed_data['Probability'] = self.reg.predict_proba(self.data)[:,1]\n",
    "                self.preprocessed_data ['Prediction'] = self.reg.predict(self.data)\n",
    "                return self.preprocessed_data"
   ]
  },
  {
   "cell_type": "code",
   "execution_count": 27,
   "metadata": {
    "scrolled": true
   },
   "outputs": [],
   "source": [
    "topredict = pd.read_csv('Absenteeism_new_data.csv')"
   ]
  },
  {
   "cell_type": "code",
   "execution_count": 31,
   "metadata": {},
   "outputs": [
    {
     "name": "stdout",
     "output_type": "stream",
     "text": [
      "<class 'pandas.core.frame.DataFrame'>\n",
      "RangeIndex: 40 entries, 0 to 39\n",
      "Data columns (total 11 columns):\n",
      " #   Column                   Non-Null Count  Dtype  \n",
      "---  ------                   --------------  -----  \n",
      " 0   ID                       40 non-null     int64  \n",
      " 1   Reason for Absence       40 non-null     int64  \n",
      " 2   Date                     40 non-null     object \n",
      " 3   Transportation Expense   40 non-null     int64  \n",
      " 4   Distance to Work         40 non-null     int64  \n",
      " 5   Age                      40 non-null     int64  \n",
      " 6   Daily Work Load Average  40 non-null     float64\n",
      " 7   Body Mass Index          40 non-null     int64  \n",
      " 8   Education                40 non-null     int64  \n",
      " 9   Children                 40 non-null     int64  \n",
      " 10  Pets                     40 non-null     int64  \n",
      "dtypes: float64(1), int64(9), object(1)\n",
      "memory usage: 3.6+ KB\n"
     ]
    }
   ],
   "source": [
    "topredict.info()\n"
   ]
  },
  {
   "cell_type": "markdown",
   "metadata": {},
   "source": [
    "***Ada 40 pekerja yang akan diprediksi, apakah akan sering melakukan absen atau tidak\n",
    "Nilai Absenteiism adalah 1 atau 0, dimana 0 berarti akan sangat jarang absen, \n",
    "sedangkan 1 berarti akan sangat sering absen***"
   ]
  },
  {
   "cell_type": "code",
   "execution_count": 15,
   "metadata": {},
   "outputs": [],
   "source": [
    "model = absenteeism_model('model','scaler')"
   ]
  },
  {
   "cell_type": "code",
   "execution_count": 16,
   "metadata": {},
   "outputs": [],
   "source": [
    "model.load_and_clean_data(topredict)"
   ]
  },
  {
   "cell_type": "code",
   "execution_count": 82,
   "metadata": {
    "scrolled": true
   },
   "outputs": [
    {
     "data": {
      "text/html": [
       "<div>\n",
       "<style scoped>\n",
       "    .dataframe tbody tr th:only-of-type {\n",
       "        vertical-align: middle;\n",
       "    }\n",
       "\n",
       "    .dataframe tbody tr th {\n",
       "        vertical-align: top;\n",
       "    }\n",
       "\n",
       "    .dataframe thead th {\n",
       "        text-align: right;\n",
       "    }\n",
       "</style>\n",
       "<table border=\"1\" class=\"dataframe\">\n",
       "  <thead>\n",
       "    <tr style=\"text-align: right;\">\n",
       "      <th></th>\n",
       "      <th>Reason_1</th>\n",
       "      <th>Reason_2</th>\n",
       "      <th>Reason_3</th>\n",
       "      <th>Reason_4</th>\n",
       "      <th>Month Value</th>\n",
       "      <th>Transportation Expense</th>\n",
       "      <th>Age</th>\n",
       "      <th>Body Mass Index</th>\n",
       "      <th>Education</th>\n",
       "      <th>Children</th>\n",
       "      <th>Pets</th>\n",
       "      <th>Probability</th>\n",
       "      <th>Prediction</th>\n",
       "    </tr>\n",
       "  </thead>\n",
       "  <tbody>\n",
       "    <tr>\n",
       "      <th>0</th>\n",
       "      <td>0</td>\n",
       "      <td>0.0</td>\n",
       "      <td>0</td>\n",
       "      <td>1</td>\n",
       "      <td>6</td>\n",
       "      <td>179</td>\n",
       "      <td>30</td>\n",
       "      <td>19</td>\n",
       "      <td>1</td>\n",
       "      <td>0</td>\n",
       "      <td>0</td>\n",
       "      <td>0.127203</td>\n",
       "      <td>0</td>\n",
       "    </tr>\n",
       "    <tr>\n",
       "      <th>1</th>\n",
       "      <td>1</td>\n",
       "      <td>0.0</td>\n",
       "      <td>0</td>\n",
       "      <td>0</td>\n",
       "      <td>6</td>\n",
       "      <td>361</td>\n",
       "      <td>28</td>\n",
       "      <td>27</td>\n",
       "      <td>0</td>\n",
       "      <td>1</td>\n",
       "      <td>4</td>\n",
       "      <td>0.864029</td>\n",
       "      <td>1</td>\n",
       "    </tr>\n",
       "    <tr>\n",
       "      <th>2</th>\n",
       "      <td>0</td>\n",
       "      <td>0.0</td>\n",
       "      <td>0</td>\n",
       "      <td>1</td>\n",
       "      <td>6</td>\n",
       "      <td>155</td>\n",
       "      <td>34</td>\n",
       "      <td>25</td>\n",
       "      <td>0</td>\n",
       "      <td>2</td>\n",
       "      <td>0</td>\n",
       "      <td>0.265096</td>\n",
       "      <td>0</td>\n",
       "    </tr>\n",
       "    <tr>\n",
       "      <th>3</th>\n",
       "      <td>0</td>\n",
       "      <td>0.0</td>\n",
       "      <td>0</td>\n",
       "      <td>1</td>\n",
       "      <td>6</td>\n",
       "      <td>179</td>\n",
       "      <td>40</td>\n",
       "      <td>22</td>\n",
       "      <td>1</td>\n",
       "      <td>2</td>\n",
       "      <td>0</td>\n",
       "      <td>0.202894</td>\n",
       "      <td>0</td>\n",
       "    </tr>\n",
       "    <tr>\n",
       "      <th>4</th>\n",
       "      <td>1</td>\n",
       "      <td>0.0</td>\n",
       "      <td>0</td>\n",
       "      <td>0</td>\n",
       "      <td>6</td>\n",
       "      <td>155</td>\n",
       "      <td>34</td>\n",
       "      <td>25</td>\n",
       "      <td>0</td>\n",
       "      <td>2</td>\n",
       "      <td>0</td>\n",
       "      <td>0.719413</td>\n",
       "      <td>1</td>\n",
       "    </tr>\n",
       "  </tbody>\n",
       "</table>\n",
       "</div>"
      ],
      "text/plain": [
       "   Reason_1  Reason_2  Reason_3  Reason_4  Month Value  \\\n",
       "0         0       0.0         0         1            6   \n",
       "1         1       0.0         0         0            6   \n",
       "2         0       0.0         0         1            6   \n",
       "3         0       0.0         0         1            6   \n",
       "4         1       0.0         0         0            6   \n",
       "\n",
       "   Transportation Expense  Age  Body Mass Index  Education  Children  Pets  \\\n",
       "0                     179   30               19          1         0     0   \n",
       "1                     361   28               27          0         1     4   \n",
       "2                     155   34               25          0         2     0   \n",
       "3                     179   40               22          1         2     0   \n",
       "4                     155   34               25          0         2     0   \n",
       "\n",
       "   Probability  Prediction  \n",
       "0     0.127203           0  \n",
       "1     0.864029           1  \n",
       "2     0.265096           0  \n",
       "3     0.202894           0  \n",
       "4     0.719413           1  "
      ]
     },
     "execution_count": 82,
     "metadata": {},
     "output_type": "execute_result"
    }
   ],
   "source": [
    "model.predicted_outputs().head(5)"
   ]
  },
  {
   "cell_type": "code",
   "execution_count": 18,
   "metadata": {},
   "outputs": [],
   "source": [
    "AbsentPrediction = model.predicted_outputs()"
   ]
  },
  {
   "cell_type": "code",
   "execution_count": 56,
   "metadata": {},
   "outputs": [],
   "source": [
    "AbsentDF = pd.DataFrame({'ID Pekerja : ':AbsentPrediction.index\n",
    "                        , 'Kemungkinan Absen Berlebih': AbsentPrediction['Prediction']})"
   ]
  },
  {
   "cell_type": "code",
   "execution_count": 57,
   "metadata": {},
   "outputs": [
    {
     "data": {
      "text/html": [
       "<div>\n",
       "<style scoped>\n",
       "    .dataframe tbody tr th:only-of-type {\n",
       "        vertical-align: middle;\n",
       "    }\n",
       "\n",
       "    .dataframe tbody tr th {\n",
       "        vertical-align: top;\n",
       "    }\n",
       "\n",
       "    .dataframe thead th {\n",
       "        text-align: right;\n",
       "    }\n",
       "</style>\n",
       "<table border=\"1\" class=\"dataframe\">\n",
       "  <thead>\n",
       "    <tr style=\"text-align: right;\">\n",
       "      <th></th>\n",
       "      <th>ID Pekerja :</th>\n",
       "      <th>Kemungkinan Absen Berlebih</th>\n",
       "    </tr>\n",
       "  </thead>\n",
       "  <tbody>\n",
       "    <tr>\n",
       "      <th>0</th>\n",
       "      <td>0</td>\n",
       "      <td>0</td>\n",
       "    </tr>\n",
       "    <tr>\n",
       "      <th>1</th>\n",
       "      <td>1</td>\n",
       "      <td>1</td>\n",
       "    </tr>\n",
       "    <tr>\n",
       "      <th>2</th>\n",
       "      <td>2</td>\n",
       "      <td>0</td>\n",
       "    </tr>\n",
       "    <tr>\n",
       "      <th>3</th>\n",
       "      <td>3</td>\n",
       "      <td>0</td>\n",
       "    </tr>\n",
       "    <tr>\n",
       "      <th>4</th>\n",
       "      <td>4</td>\n",
       "      <td>1</td>\n",
       "    </tr>\n",
       "  </tbody>\n",
       "</table>\n",
       "</div>"
      ],
      "text/plain": [
       "   ID Pekerja :   Kemungkinan Absen Berlebih\n",
       "0              0                           0\n",
       "1              1                           1\n",
       "2              2                           0\n",
       "3              3                           0\n",
       "4              4                           1"
      ]
     },
     "execution_count": 57,
     "metadata": {},
     "output_type": "execute_result"
    }
   ],
   "source": [
    "AbsentDF.head(5)"
   ]
  },
  {
   "cell_type": "code",
   "execution_count": 60,
   "metadata": {},
   "outputs": [],
   "source": [
    "import matplotlib.pyplot as plt\n",
    "import seaborn as sns\n",
    "import plotly.express as px\n",
    "sns.set()"
   ]
  },
  {
   "cell_type": "code",
   "execution_count": 81,
   "metadata": {},
   "outputs": [
    {
     "data": {
      "text/plain": [
       "<matplotlib.legend.Legend at 0x19ca28f42b0>"
      ]
     },
     "execution_count": 81,
     "metadata": {},
     "output_type": "execute_result"
    },
    {
     "data": {
      "image/png": "[encoded data removed]",
      "text/plain": [
       "<Figure size 864x216 with 1 Axes>"
      ]
     },
     "metadata": {},
     "output_type": "display_data"
    }
   ],
   "source": [
    "f = plt.figure()\n",
    "f.set_figwidth(12)\n",
    "f.set_figheight(3)\n",
    "plt.scatter(AbsentPrediction.index, AbsentPrediction['Prediction'], \n",
    "            c='lightseagreen',label='Kemungkinan Absen Berlebih')\n",
    "plt.xlabel('ID Pekerja',c='indigo',size=15)\n",
    "plt.ylabel('Kemungkinan Absen Berlebih',c='indigo',size=15)\n",
    "plt.xticks(AbsentPrediction.index)\n",
    "plt.title('Plot Karyawan yang Kemungkinan Absen berlebihan', c='black',size=20)\n",
    "plt.legend()\n"
   ]
  },
  {
   "cell_type": "code",
   "execution_count": 53,
   "metadata": {},
   "outputs": [
    {
     "data": {
      "text/plain": [
       "<AxesSubplot:xlabel='Prediction', ylabel='Count'>"
      ]
     },
     "execution_count": 53,
     "metadata": {},
     "output_type": "execute_result"
    },
    {
     "data": {
      "image/png": "[encoded data removed]",
      "text/plain": [
       "<Figure size 432x288 with 1 Axes>"
      ]
     },
     "metadata": {},
     "output_type": "display_data"
    }
   ],
   "source": [
    "sns.histplot(AbsentPrediction['Prediction'])"
   ]
  },
  {
   "cell_type": "code",
   "execution_count": null,
   "metadata": {},
   "outputs": [],
   "source": []
  },
  {
   "cell_type": "code",
   "execution_count": 46,
   "metadata": {},
   "outputs": [
    {
     "data": {
      "text/plain": [
       "count    40.000000\n",
       "mean      0.425000\n",
       "std       0.500641\n",
       "min       0.000000\n",
       "25%       0.000000\n",
       "50%       0.000000\n",
       "75%       1.000000\n",
       "max       1.000000\n",
       "Name: Prediction, dtype: float64"
      ]
     },
     "execution_count": 46,
     "metadata": {},
     "output_type": "execute_result"
    }
   ],
   "source": [
    "AbsentPrediction['Prediction'].describe()"
   ]
  },
  {
   "cell_type": "code",
   "execution_count": 55,
   "metadata": {},
   "outputs": [
    {
     "data": {
      "text/plain": [
       "{'Jumlah Pekerja yang tidak akan absen berlebih : ': 23,\n",
       " 'Jumlah Pekerja yan akan absen berlebih : ': 17}"
      ]
     },
     "execution_count": 55,
     "metadata": {},
     "output_type": "execute_result"
    }
   ],
   "source": [
    "unique, counts = np.unique(AbsentPrediction['Prediction'], return_counts = True)\n",
    "#countspercent = counts/np.sum(counts)\n",
    "dict({'Jumlah Pekerja yang tidak akan absen berlebih : ':counts[0],\n",
    "      'Jumlah Pekerja yan akan absen berlebih : ':counts[1]})"
   ]
  },
  {
   "cell_type": "code",
   "execution_count": null,
   "metadata": {},
   "outputs": [],
   "source": []
  },
  {
   "cell_type": "code",
   "execution_count": null,
   "metadata": {},
   "outputs": [],
   "source": []
  }
 ],
 "metadata": {
  "kernelspec": {
   "display_name": "Python 3",
   "language": "python",
   "name": "python3"
  },
  "language_info": {
   "codemirror_mode": {
    "name": "ipython",
    "version": 3
   },
   "file_extension": ".py",
   "mimetype": "text/x-python",
   "name": "python",
   "nbconvert_exporter": "python",
   "pygments_lexer": "ipython3",
   "version": "3.8.8"
  }
 },
 "nbformat": 4,
 "nbformat_minor": 4
}
